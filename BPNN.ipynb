{
 "cells": [
  {
   "cell_type": "markdown",
   "id": "a498076b-ede4-4535-8b42-44a8f6640182",
   "metadata": {},
   "source": [
    "## Import Library"
   ]
  },
  {
   "cell_type": "code",
   "execution_count": 1,
   "id": "a98f76da-4ddc-4de7-a792-ed85ca420334",
   "metadata": {
    "scrolled": false
   },
   "outputs": [],
   "source": [
    "import pandas as pd \n",
    "import numpy as np\n",
    "import matplotlib.pyplot as plt\n",
    "from sklearn.preprocessing import MinMaxScaler \n",
    "from sklearn.model_selection import train_test_split\n",
    "from sklearn.metrics import classification_report\n",
    "import tensorflow as tf\n",
    "from sklearn.metrics import mean_absolute_error,mean_absolute_percentage_error"
   ]
  },
  {
   "cell_type": "markdown",
   "id": "ee5597cc-da71-4105-b3f8-0fb8e8cc026c",
   "metadata": {},
   "source": [
    "## Read Dataset"
   ]
  },
  {
   "cell_type": "code",
   "execution_count": 2,
   "id": "33251f35-6204-456f-b51b-8bb435350974",
   "metadata": {},
   "outputs": [
    {
     "data": {
      "text/html": [
       "<div>\n",
       "<style scoped>\n",
       "    .dataframe tbody tr th:only-of-type {\n",
       "        vertical-align: middle;\n",
       "    }\n",
       "\n",
       "    .dataframe tbody tr th {\n",
       "        vertical-align: top;\n",
       "    }\n",
       "\n",
       "    .dataframe thead th {\n",
       "        text-align: right;\n",
       "    }\n",
       "</style>\n",
       "<table border=\"1\" class=\"dataframe\">\n",
       "  <thead>\n",
       "    <tr style=\"text-align: right;\">\n",
       "      <th></th>\n",
       "      <th>Bulan/Tahun</th>\n",
       "      <th>2019</th>\n",
       "      <th>2020</th>\n",
       "      <th>2021</th>\n",
       "      <th>Total/Kg</th>\n",
       "    </tr>\n",
       "  </thead>\n",
       "  <tbody>\n",
       "    <tr>\n",
       "      <th>0</th>\n",
       "      <td>Januari</td>\n",
       "      <td>135430</td>\n",
       "      <td>128530</td>\n",
       "      <td>131350</td>\n",
       "      <td>395310</td>\n",
       "    </tr>\n",
       "    <tr>\n",
       "      <th>1</th>\n",
       "      <td>Februari</td>\n",
       "      <td>110440</td>\n",
       "      <td>121890</td>\n",
       "      <td>154510</td>\n",
       "      <td>386840</td>\n",
       "    </tr>\n",
       "    <tr>\n",
       "      <th>2</th>\n",
       "      <td>Maret</td>\n",
       "      <td>69140</td>\n",
       "      <td>77770</td>\n",
       "      <td>156250</td>\n",
       "      <td>303160</td>\n",
       "    </tr>\n",
       "    <tr>\n",
       "      <th>3</th>\n",
       "      <td>April</td>\n",
       "      <td>131610</td>\n",
       "      <td>111440</td>\n",
       "      <td>158230</td>\n",
       "      <td>401280</td>\n",
       "    </tr>\n",
       "    <tr>\n",
       "      <th>4</th>\n",
       "      <td>Mei</td>\n",
       "      <td>145190</td>\n",
       "      <td>63810</td>\n",
       "      <td>127830</td>\n",
       "      <td>336830</td>\n",
       "    </tr>\n",
       "    <tr>\n",
       "      <th>5</th>\n",
       "      <td>Juni</td>\n",
       "      <td>137000</td>\n",
       "      <td>109890</td>\n",
       "      <td>180720</td>\n",
       "      <td>427610</td>\n",
       "    </tr>\n",
       "    <tr>\n",
       "      <th>6</th>\n",
       "      <td>Juli</td>\n",
       "      <td>97950</td>\n",
       "      <td>123060</td>\n",
       "      <td>96890</td>\n",
       "      <td>317900</td>\n",
       "    </tr>\n",
       "    <tr>\n",
       "      <th>7</th>\n",
       "      <td>Agustus</td>\n",
       "      <td>113660</td>\n",
       "      <td>120750</td>\n",
       "      <td>155320</td>\n",
       "      <td>389730</td>\n",
       "    </tr>\n",
       "    <tr>\n",
       "      <th>8</th>\n",
       "      <td>September</td>\n",
       "      <td>143200</td>\n",
       "      <td>126760</td>\n",
       "      <td>165290</td>\n",
       "      <td>435250</td>\n",
       "    </tr>\n",
       "    <tr>\n",
       "      <th>9</th>\n",
       "      <td>Oktober</td>\n",
       "      <td>70980</td>\n",
       "      <td>105990</td>\n",
       "      <td>143700</td>\n",
       "      <td>320670</td>\n",
       "    </tr>\n",
       "    <tr>\n",
       "      <th>10</th>\n",
       "      <td>November</td>\n",
       "      <td>94970</td>\n",
       "      <td>126030</td>\n",
       "      <td>158000</td>\n",
       "      <td>379000</td>\n",
       "    </tr>\n",
       "    <tr>\n",
       "      <th>11</th>\n",
       "      <td>Desember</td>\n",
       "      <td>115960</td>\n",
       "      <td>81010</td>\n",
       "      <td>140630</td>\n",
       "      <td>337600</td>\n",
       "    </tr>\n",
       "  </tbody>\n",
       "</table>\n",
       "</div>"
      ],
      "text/plain": [
       "   Bulan/Tahun    2019    2020    2021  Total/Kg\n",
       "0      Januari  135430  128530  131350    395310\n",
       "1     Februari  110440  121890  154510    386840\n",
       "2        Maret   69140   77770  156250    303160\n",
       "3        April  131610  111440  158230    401280\n",
       "4          Mei  145190   63810  127830    336830\n",
       "5         Juni  137000  109890  180720    427610\n",
       "6         Juli   97950  123060   96890    317900\n",
       "7      Agustus  113660  120750  155320    389730\n",
       "8    September  143200  126760  165290    435250\n",
       "9      Oktober   70980  105990  143700    320670\n",
       "10    November   94970  126030  158000    379000\n",
       "11    Desember  115960   81010  140630    337600"
      ]
     },
     "execution_count": 2,
     "metadata": {},
     "output_type": "execute_result"
    }
   ],
   "source": [
    "df = pd.read_excel('dataset/dataset_klasifikasi.xlsx') #membaca dataset\n",
    "df"
   ]
  },
  {
   "cell_type": "markdown",
   "id": "3791bd7b-8e1f-4d5e-a235-9f4c899c056b",
   "metadata": {},
   "source": [
    "## Cek Missing Values"
   ]
  },
  {
   "cell_type": "code",
   "execution_count": 3,
   "id": "cc40ad5a-5e59-414a-8788-8a9b430a440e",
   "metadata": {},
   "outputs": [
    {
     "data": {
      "text/plain": [
       "Bulan/Tahun    0\n",
       "2019           0\n",
       "2020           0\n",
       "2021           0\n",
       "Total/Kg       0\n",
       "dtype: int64"
      ]
     },
     "execution_count": 3,
     "metadata": {},
     "output_type": "execute_result"
    }
   ],
   "source": [
    "df.isna().sum() "
   ]
  },
  {
   "cell_type": "markdown",
   "id": "0a3b73bd-1da0-4f20-ba37-4d33ce71ce6d",
   "metadata": {},
   "source": [
    "## Data Korelasi"
   ]
  },
  {
   "cell_type": "code",
   "execution_count": 4,
   "id": "24e8bce7-26ec-41f6-9869-10e0f9d338ae",
   "metadata": {},
   "outputs": [
    {
     "data": {
      "text/html": [
       "<div>\n",
       "<style scoped>\n",
       "    .dataframe tbody tr th:only-of-type {\n",
       "        vertical-align: middle;\n",
       "    }\n",
       "\n",
       "    .dataframe tbody tr th {\n",
       "        vertical-align: top;\n",
       "    }\n",
       "\n",
       "    .dataframe thead th {\n",
       "        text-align: right;\n",
       "    }\n",
       "</style>\n",
       "<table border=\"1\" class=\"dataframe\">\n",
       "  <thead>\n",
       "    <tr style=\"text-align: right;\">\n",
       "      <th></th>\n",
       "      <th>2019</th>\n",
       "      <th>2020</th>\n",
       "      <th>2021</th>\n",
       "      <th>Total/Kg</th>\n",
       "    </tr>\n",
       "  </thead>\n",
       "  <tbody>\n",
       "    <tr>\n",
       "      <th>2019</th>\n",
       "      <td>1.000000</td>\n",
       "      <td>0.073156</td>\n",
       "      <td>0.137083</td>\n",
       "      <td>0.695170</td>\n",
       "    </tr>\n",
       "    <tr>\n",
       "      <th>2020</th>\n",
       "      <td>0.073156</td>\n",
       "      <td>1.000000</td>\n",
       "      <td>0.100794</td>\n",
       "      <td>0.586108</td>\n",
       "    </tr>\n",
       "    <tr>\n",
       "      <th>2021</th>\n",
       "      <td>0.137083</td>\n",
       "      <td>0.100794</td>\n",
       "      <td>1.000000</td>\n",
       "      <td>0.615849</td>\n",
       "    </tr>\n",
       "    <tr>\n",
       "      <th>Total/Kg</th>\n",
       "      <td>0.695170</td>\n",
       "      <td>0.586108</td>\n",
       "      <td>0.615849</td>\n",
       "      <td>1.000000</td>\n",
       "    </tr>\n",
       "  </tbody>\n",
       "</table>\n",
       "</div>"
      ],
      "text/plain": [
       "              2019      2020      2021  Total/Kg\n",
       "2019      1.000000  0.073156  0.137083  0.695170\n",
       "2020      0.073156  1.000000  0.100794  0.586108\n",
       "2021      0.137083  0.100794  1.000000  0.615849\n",
       "Total/Kg  0.695170  0.586108  0.615849  1.000000"
      ]
     },
     "execution_count": 4,
     "metadata": {},
     "output_type": "execute_result"
    }
   ],
   "source": [
    "df.corr()"
   ]
  },
  {
   "cell_type": "markdown",
   "id": "a83929d5-577f-45f6-9b73-e4f3da8f5eea",
   "metadata": {},
   "source": [
    "## Inisiasi X dan y"
   ]
  },
  {
   "cell_type": "code",
   "execution_count": 5,
   "id": "bbb56a3e-f21a-4391-8717-526144eda35b",
   "metadata": {},
   "outputs": [
    {
     "data": {
      "text/html": [
       "<div>\n",
       "<style scoped>\n",
       "    .dataframe tbody tr th:only-of-type {\n",
       "        vertical-align: middle;\n",
       "    }\n",
       "\n",
       "    .dataframe tbody tr th {\n",
       "        vertical-align: top;\n",
       "    }\n",
       "\n",
       "    .dataframe thead th {\n",
       "        text-align: right;\n",
       "    }\n",
       "</style>\n",
       "<table border=\"1\" class=\"dataframe\">\n",
       "  <thead>\n",
       "    <tr style=\"text-align: right;\">\n",
       "      <th></th>\n",
       "      <th>2019</th>\n",
       "      <th>2020</th>\n",
       "      <th>2021</th>\n",
       "    </tr>\n",
       "  </thead>\n",
       "  <tbody>\n",
       "    <tr>\n",
       "      <th>0</th>\n",
       "      <td>135430</td>\n",
       "      <td>128530</td>\n",
       "      <td>131350</td>\n",
       "    </tr>\n",
       "    <tr>\n",
       "      <th>1</th>\n",
       "      <td>110440</td>\n",
       "      <td>121890</td>\n",
       "      <td>154510</td>\n",
       "    </tr>\n",
       "    <tr>\n",
       "      <th>2</th>\n",
       "      <td>69140</td>\n",
       "      <td>77770</td>\n",
       "      <td>156250</td>\n",
       "    </tr>\n",
       "    <tr>\n",
       "      <th>3</th>\n",
       "      <td>131610</td>\n",
       "      <td>111440</td>\n",
       "      <td>158230</td>\n",
       "    </tr>\n",
       "    <tr>\n",
       "      <th>4</th>\n",
       "      <td>145190</td>\n",
       "      <td>63810</td>\n",
       "      <td>127830</td>\n",
       "    </tr>\n",
       "    <tr>\n",
       "      <th>5</th>\n",
       "      <td>137000</td>\n",
       "      <td>109890</td>\n",
       "      <td>180720</td>\n",
       "    </tr>\n",
       "    <tr>\n",
       "      <th>6</th>\n",
       "      <td>97950</td>\n",
       "      <td>123060</td>\n",
       "      <td>96890</td>\n",
       "    </tr>\n",
       "    <tr>\n",
       "      <th>7</th>\n",
       "      <td>113660</td>\n",
       "      <td>120750</td>\n",
       "      <td>155320</td>\n",
       "    </tr>\n",
       "    <tr>\n",
       "      <th>8</th>\n",
       "      <td>143200</td>\n",
       "      <td>126760</td>\n",
       "      <td>165290</td>\n",
       "    </tr>\n",
       "    <tr>\n",
       "      <th>9</th>\n",
       "      <td>70980</td>\n",
       "      <td>105990</td>\n",
       "      <td>143700</td>\n",
       "    </tr>\n",
       "    <tr>\n",
       "      <th>10</th>\n",
       "      <td>94970</td>\n",
       "      <td>126030</td>\n",
       "      <td>158000</td>\n",
       "    </tr>\n",
       "    <tr>\n",
       "      <th>11</th>\n",
       "      <td>115960</td>\n",
       "      <td>81010</td>\n",
       "      <td>140630</td>\n",
       "    </tr>\n",
       "  </tbody>\n",
       "</table>\n",
       "</div>"
      ],
      "text/plain": [
       "      2019    2020    2021\n",
       "0   135430  128530  131350\n",
       "1   110440  121890  154510\n",
       "2    69140   77770  156250\n",
       "3   131610  111440  158230\n",
       "4   145190   63810  127830\n",
       "5   137000  109890  180720\n",
       "6    97950  123060   96890\n",
       "7   113660  120750  155320\n",
       "8   143200  126760  165290\n",
       "9    70980  105990  143700\n",
       "10   94970  126030  158000\n",
       "11  115960   81010  140630"
      ]
     },
     "execution_count": 5,
     "metadata": {},
     "output_type": "execute_result"
    }
   ],
   "source": [
    "X = df.drop(columns=['Bulan/Tahun','Total/Kg'])\n",
    "y = df['Total/Kg']\n",
    "X"
   ]
  },
  {
   "cell_type": "markdown",
   "id": "4efbaed2-d136-4506-91ec-72d30cae0912",
   "metadata": {},
   "source": [
    "## Split Dataset"
   ]
  },
  {
   "cell_type": "code",
   "execution_count": 6,
   "id": "93f323c9-a274-4143-a765-fc037d91654c",
   "metadata": {},
   "outputs": [
    {
     "data": {
      "text/plain": [
       "6     317900\n",
       "11    337600\n",
       "Name: Total/Kg, dtype: int64"
      ]
     },
     "execution_count": 6,
     "metadata": {},
     "output_type": "execute_result"
    }
   ],
   "source": [
    "X_train,X_test,y_train,y_test = train_test_split(X,y,random_state=0,test_size=0.1)\n",
    "y_test"
   ]
  },
  {
   "cell_type": "markdown",
   "id": "b0c76354-aaa4-4a82-a0e8-5512f77810f6",
   "metadata": {},
   "source": [
    "## Model Backpropagation "
   ]
  },
  {
   "cell_type": "code",
   "execution_count": 7,
   "id": "9655b8c5-63b8-459f-90fd-57af434b44fa",
   "metadata": {},
   "outputs": [
    {
     "name": "stdout",
     "output_type": "stream",
     "text": [
      "Epoch 1/100\n"
     ]
    },
    {
     "name": "stderr",
     "output_type": "stream",
     "text": [
      "2022-08-16 23:17:56.714450: I tensorflow/stream_executor/cuda/cuda_gpu_executor.cc:936] successful NUMA node read from SysFS had negative value (-1), but there must be at least one NUMA node, so returning NUMA node zero\n",
      "2022-08-16 23:17:56.746338: I tensorflow/stream_executor/cuda/cuda_gpu_executor.cc:936] successful NUMA node read from SysFS had negative value (-1), but there must be at least one NUMA node, so returning NUMA node zero\n",
      "2022-08-16 23:17:56.746550: I tensorflow/stream_executor/cuda/cuda_gpu_executor.cc:936] successful NUMA node read from SysFS had negative value (-1), but there must be at least one NUMA node, so returning NUMA node zero\n",
      "2022-08-16 23:17:56.747020: I tensorflow/core/platform/cpu_feature_guard.cc:151] This TensorFlow binary is optimized with oneAPI Deep Neural Network Library (oneDNN) to use the following CPU instructions in performance-critical operations:  AVX2 FMA\n",
      "To enable them in other operations, rebuild TensorFlow with the appropriate compiler flags.\n",
      "2022-08-16 23:17:56.747413: I tensorflow/stream_executor/cuda/cuda_gpu_executor.cc:936] successful NUMA node read from SysFS had negative value (-1), but there must be at least one NUMA node, so returning NUMA node zero\n",
      "2022-08-16 23:17:56.747591: I tensorflow/stream_executor/cuda/cuda_gpu_executor.cc:936] successful NUMA node read from SysFS had negative value (-1), but there must be at least one NUMA node, so returning NUMA node zero\n",
      "2022-08-16 23:17:56.747745: I tensorflow/stream_executor/cuda/cuda_gpu_executor.cc:936] successful NUMA node read from SysFS had negative value (-1), but there must be at least one NUMA node, so returning NUMA node zero\n",
      "2022-08-16 23:17:57.191448: I tensorflow/stream_executor/cuda/cuda_gpu_executor.cc:936] successful NUMA node read from SysFS had negative value (-1), but there must be at least one NUMA node, so returning NUMA node zero\n",
      "2022-08-16 23:17:57.191671: I tensorflow/stream_executor/cuda/cuda_gpu_executor.cc:936] successful NUMA node read from SysFS had negative value (-1), but there must be at least one NUMA node, so returning NUMA node zero\n",
      "2022-08-16 23:17:57.191838: I tensorflow/stream_executor/cuda/cuda_gpu_executor.cc:936] successful NUMA node read from SysFS had negative value (-1), but there must be at least one NUMA node, so returning NUMA node zero\n",
      "2022-08-16 23:17:57.191998: I tensorflow/core/common_runtime/gpu/gpu_device.cc:1525] Created device /job:localhost/replica:0/task:0/device:GPU:0 with 1269 MB memory:  -> device: 0, name: NVIDIA GeForce MX130, pci bus id: 0000:01:00.0, compute capability: 5.0\n"
     ]
    },
    {
     "name": "stdout",
     "output_type": "stream",
     "text": [
      "1/1 [==============================] - 1s 584ms/step - loss: 371696.3125\n",
      "Epoch 2/100\n",
      "1/1 [==============================] - 0s 3ms/step - loss: 290195.5625\n",
      "Epoch 3/100\n",
      "1/1 [==============================] - 0s 3ms/step - loss: 225069.5938\n",
      "Epoch 4/100\n",
      "1/1 [==============================] - 0s 4ms/step - loss: 169265.4062\n",
      "Epoch 5/100\n",
      "1/1 [==============================] - 0s 6ms/step - loss: 109070.7109\n",
      "Epoch 6/100\n",
      "1/1 [==============================] - 0s 5ms/step - loss: 41031.5195\n",
      "Epoch 7/100\n",
      "1/1 [==============================] - 0s 7ms/step - loss: 35084.7539\n",
      "Epoch 8/100\n",
      "1/1 [==============================] - 0s 4ms/step - loss: 75430.6953\n",
      "Epoch 9/100\n",
      "1/1 [==============================] - 0s 4ms/step - loss: 88124.5938\n",
      "Epoch 10/100\n",
      "1/1 [==============================] - 0s 4ms/step - loss: 80615.8359\n",
      "Epoch 11/100\n",
      "1/1 [==============================] - 0s 6ms/step - loss: 58827.9180\n",
      "Epoch 12/100\n",
      "1/1 [==============================] - 0s 4ms/step - loss: 27333.5840\n",
      "Epoch 13/100\n",
      "1/1 [==============================] - 0s 4ms/step - loss: 11318.9941\n",
      "Epoch 14/100\n",
      "1/1 [==============================] - 0s 7ms/step - loss: 32970.9453\n",
      "Epoch 15/100\n",
      "1/1 [==============================] - 0s 4ms/step - loss: 42412.5898\n",
      "Epoch 16/100\n",
      "1/1 [==============================] - 0s 5ms/step - loss: 41349.0273\n",
      "Epoch 17/100\n",
      "1/1 [==============================] - 0s 4ms/step - loss: 31328.2559\n",
      "Epoch 18/100\n",
      "1/1 [==============================] - 0s 5ms/step - loss: 13669.5439\n",
      "Epoch 19/100\n",
      "1/1 [==============================] - 0s 9ms/step - loss: 11398.6719\n",
      "Epoch 20/100\n",
      "1/1 [==============================] - 0s 5ms/step - loss: 25833.5781\n",
      "Epoch 21/100\n",
      "1/1 [==============================] - 0s 5ms/step - loss: 28633.6992\n",
      "Epoch 22/100\n",
      "1/1 [==============================] - 0s 5ms/step - loss: 21232.1660\n",
      "Epoch 23/100\n",
      "1/1 [==============================] - 0s 6ms/step - loss: 6559.2500\n",
      "Epoch 24/100\n",
      "1/1 [==============================] - 0s 4ms/step - loss: 15718.8027\n",
      "Epoch 25/100\n",
      "1/1 [==============================] - 0s 6ms/step - loss: 25572.7246\n",
      "Epoch 26/100\n",
      "1/1 [==============================] - 0s 5ms/step - loss: 26087.5977\n",
      "Epoch 27/100\n",
      "1/1 [==============================] - 0s 9ms/step - loss: 18393.5430\n",
      "Epoch 28/100\n",
      "1/1 [==============================] - 0s 14ms/step - loss: 5402.1377\n",
      "Epoch 29/100\n",
      "1/1 [==============================] - 0s 4ms/step - loss: 14874.2627\n",
      "Epoch 30/100\n",
      "1/1 [==============================] - 0s 7ms/step - loss: 22171.5098\n",
      "Epoch 31/100\n",
      "1/1 [==============================] - 0s 6ms/step - loss: 19667.7031\n",
      "Epoch 32/100\n",
      "1/1 [==============================] - 0s 6ms/step - loss: 9057.4785\n",
      "Epoch 33/100\n",
      "1/1 [==============================] - 0s 4ms/step - loss: 9128.8564\n",
      "Epoch 34/100\n",
      "1/1 [==============================] - 0s 11ms/step - loss: 15768.7754\n",
      "Epoch 35/100\n",
      "1/1 [==============================] - 0s 6ms/step - loss: 14642.6279\n",
      "Epoch 36/100\n",
      "1/1 [==============================] - 0s 4ms/step - loss: 8062.2344\n",
      "Epoch 37/100\n",
      "1/1 [==============================] - 0s 8ms/step - loss: 7992.3721\n",
      "Epoch 38/100\n",
      "1/1 [==============================] - 0s 11ms/step - loss: 13433.4844\n",
      "Epoch 39/100\n",
      "1/1 [==============================] - 0s 4ms/step - loss: 10202.8438\n",
      "Epoch 40/100\n",
      "1/1 [==============================] - 0s 7ms/step - loss: 4150.3281\n",
      "Epoch 41/100\n",
      "1/1 [==============================] - 0s 10ms/step - loss: 8716.6123\n",
      "Epoch 42/100\n",
      "1/1 [==============================] - 0s 4ms/step - loss: 7818.3657\n",
      "Epoch 43/100\n",
      "1/1 [==============================] - 0s 6ms/step - loss: 3507.4907\n",
      "Epoch 44/100\n",
      "1/1 [==============================] - 0s 4ms/step - loss: 7642.0220\n",
      "Epoch 45/100\n",
      "1/1 [==============================] - 0s 7ms/step - loss: 6400.0562\n",
      "Epoch 46/100\n",
      "1/1 [==============================] - 0s 9ms/step - loss: 4399.6562\n",
      "Epoch 47/100\n",
      "1/1 [==============================] - 0s 5ms/step - loss: 7222.0405\n",
      "Epoch 48/100\n",
      "1/1 [==============================] - 0s 9ms/step - loss: 4161.4062\n",
      "Epoch 49/100\n",
      "1/1 [==============================] - 0s 7ms/step - loss: 5664.2783\n",
      "Epoch 50/100\n",
      "1/1 [==============================] - 0s 4ms/step - loss: 5323.3252\n",
      "Epoch 51/100\n",
      "1/1 [==============================] - 0s 7ms/step - loss: 4121.5063\n",
      "Epoch 52/100\n",
      "1/1 [==============================] - 0s 5ms/step - loss: 5118.6533\n",
      "Epoch 53/100\n",
      "1/1 [==============================] - 0s 6ms/step - loss: 3306.6470\n",
      "Epoch 54/100\n",
      "1/1 [==============================] - 0s 5ms/step - loss: 3690.5562\n",
      "Epoch 55/100\n",
      "1/1 [==============================] - 0s 7ms/step - loss: 4737.6904\n",
      "Epoch 56/100\n",
      "1/1 [==============================] - 0s 4ms/step - loss: 3497.1750\n",
      "Epoch 57/100\n",
      "1/1 [==============================] - 0s 7ms/step - loss: 4961.3032\n",
      "Epoch 58/100\n",
      "1/1 [==============================] - 0s 7ms/step - loss: 4130.0063\n",
      "Epoch 59/100\n",
      "1/1 [==============================] - 0s 6ms/step - loss: 5071.5845\n",
      "Epoch 60/100\n",
      "1/1 [==============================] - 0s 8ms/step - loss: 4823.3188\n",
      "Epoch 61/100\n",
      "1/1 [==============================] - 0s 5ms/step - loss: 3891.7219\n",
      "Epoch 62/100\n",
      "1/1 [==============================] - 0s 9ms/step - loss: 3666.8188\n",
      "Epoch 63/100\n",
      "1/1 [==============================] - 0s 8ms/step - loss: 4570.7002\n",
      "Epoch 64/100\n",
      "1/1 [==============================] - 0s 5ms/step - loss: 3797.9780\n",
      "Epoch 65/100\n",
      "1/1 [==============================] - 0s 6ms/step - loss: 4950.6592\n",
      "Epoch 66/100\n",
      "1/1 [==============================] - 0s 10ms/step - loss: 3650.5718\n",
      "Epoch 67/100\n",
      "1/1 [==============================] - 0s 5ms/step - loss: 5180.3936\n",
      "Epoch 68/100\n",
      "1/1 [==============================] - 0s 7ms/step - loss: 5329.3594\n",
      "Epoch 69/100\n",
      "1/1 [==============================] - 0s 5ms/step - loss: 2296.9719\n",
      "Epoch 70/100\n",
      "1/1 [==============================] - 0s 7ms/step - loss: 1886.9313\n",
      "Epoch 71/100\n",
      "1/1 [==============================] - 0s 8ms/step - loss: 3223.7688\n",
      "Epoch 72/100\n",
      "1/1 [==============================] - 0s 6ms/step - loss: 2002.2562\n",
      "Epoch 73/100\n",
      "1/1 [==============================] - 0s 9ms/step - loss: 5473.1064\n",
      "Epoch 74/100\n",
      "1/1 [==============================] - 0s 8ms/step - loss: 2023.0375\n",
      "Epoch 75/100\n",
      "1/1 [==============================] - 0s 7ms/step - loss: 8649.3721\n",
      "Epoch 76/100\n",
      "1/1 [==============================] - 0s 5ms/step - loss: 9179.6035\n",
      "Epoch 77/100\n",
      "1/1 [==============================] - 0s 8ms/step - loss: 1870.8938\n",
      "Epoch 78/100\n",
      "1/1 [==============================] - 0s 4ms/step - loss: 10582.1377\n",
      "Epoch 79/100\n",
      "1/1 [==============================] - 0s 5ms/step - loss: 11772.4033\n",
      "Epoch 80/100\n",
      "1/1 [==============================] - 0s 5ms/step - loss: 3690.0938\n",
      "Epoch 81/100\n",
      "1/1 [==============================] - 0s 5ms/step - loss: 12333.4004\n",
      "Epoch 82/100\n",
      "1/1 [==============================] - 0s 6ms/step - loss: 17963.9023\n",
      "Epoch 83/100\n",
      "1/1 [==============================] - 0s 5ms/step - loss: 14559.9814\n",
      "Epoch 84/100\n",
      "1/1 [==============================] - 0s 7ms/step - loss: 2954.4187\n",
      "Epoch 85/100\n",
      "1/1 [==============================] - 0s 5ms/step - loss: 15079.9785\n",
      "Epoch 86/100\n",
      "1/1 [==============================] - 0s 6ms/step - loss: 22278.1777\n",
      "Epoch 87/100\n",
      "1/1 [==============================] - 0s 7ms/step - loss: 19460.4844\n",
      "Epoch 88/100\n",
      "1/1 [==============================] - 0s 7ms/step - loss: 7798.6157\n",
      "Epoch 89/100\n",
      "1/1 [==============================] - 0s 8ms/step - loss: 11286.0879\n",
      "Epoch 90/100\n",
      "1/1 [==============================] - 0s 5ms/step - loss: 19689.8496\n",
      "Epoch 91/100\n",
      "1/1 [==============================] - 0s 5ms/step - loss: 18929.0410\n",
      "Epoch 92/100\n",
      "1/1 [==============================] - 0s 7ms/step - loss: 9916.1621\n",
      "Epoch 93/100\n",
      "1/1 [==============================] - 0s 4ms/step - loss: 6886.1562\n",
      "Epoch 94/100\n",
      "1/1 [==============================] - 0s 8ms/step - loss: 13338.0186\n",
      "Epoch 95/100\n",
      "1/1 [==============================] - 0s 4ms/step - loss: 10197.4785\n",
      "Epoch 96/100\n",
      "1/1 [==============================] - 0s 4ms/step - loss: 1581.1875\n",
      "Epoch 97/100\n",
      "1/1 [==============================] - 0s 5ms/step - loss: 4695.5688\n",
      "Epoch 98/100\n",
      "1/1 [==============================] - 0s 4ms/step - loss: 969.3344\n",
      "Epoch 99/100\n",
      "1/1 [==============================] - 0s 6ms/step - loss: 923.3187\n",
      "Epoch 100/100\n",
      "1/1 [==============================] - 0s 4ms/step - loss: 4318.2437\n"
     ]
    },
    {
     "data": {
      "text/plain": [
       "<keras.callbacks.History at 0x7fbfbc0d21f0>"
      ]
     },
     "execution_count": 7,
     "metadata": {},
     "output_type": "execute_result"
    }
   ],
   "source": [
    "mdl = tf.keras.models.Sequential() #backpropagation\n",
    "mdl.add(tf.keras.layers.Dense(units=4,activation='relu',input_shape=(3,)))#input layer ada 3 node karena variabel input ada 4\n",
    "mdl.add(tf.keras.layers.Dense(units=1))#hiden layer ada 1 node\n",
    "mdl.compile(loss='mean_absolute_error',optimizer=tf.keras.optimizers.Adam(0.1))\n",
    "mdl.fit(X_train,y_train,epochs=100,batch_size=128) #melakukan training"
   ]
  },
  {
   "cell_type": "markdown",
   "id": "02be82e2-fa51-40e5-a0ca-3a2a2b2f430d",
   "metadata": {},
   "source": [
    "## Info Model"
   ]
  },
  {
   "cell_type": "code",
   "execution_count": 8,
   "id": "69be2a97-8550-4cff-a74a-e25b46b83ce7",
   "metadata": {},
   "outputs": [
    {
     "name": "stdout",
     "output_type": "stream",
     "text": [
      "Model: \"sequential\"\n",
      "_________________________________________________________________\n",
      " Layer (type)                Output Shape              Param #   \n",
      "=================================================================\n",
      " dense (Dense)               (None, 4)                 16        \n",
      "                                                                 \n",
      " dense_1 (Dense)             (None, 1)                 5         \n",
      "                                                                 \n",
      "=================================================================\n",
      "Total params: 21\n",
      "Trainable params: 21\n",
      "Non-trainable params: 0\n",
      "_________________________________________________________________\n"
     ]
    }
   ],
   "source": [
    "mdl.summary()"
   ]
  },
  {
   "cell_type": "markdown",
   "id": "cd42fcfe-484b-4e26-9cf1-8c69408e6a5d",
   "metadata": {},
   "source": [
    "## Prediksi"
   ]
  },
  {
   "cell_type": "code",
   "execution_count": 20,
   "id": "07a07229-fbfa-4373-9b5d-d2e8443964e7",
   "metadata": {},
   "outputs": [
    {
     "data": {
      "text/html": [
       "<div>\n",
       "<style scoped>\n",
       "    .dataframe tbody tr th:only-of-type {\n",
       "        vertical-align: middle;\n",
       "    }\n",
       "\n",
       "    .dataframe tbody tr th {\n",
       "        vertical-align: top;\n",
       "    }\n",
       "\n",
       "    .dataframe thead th {\n",
       "        text-align: right;\n",
       "    }\n",
       "</style>\n",
       "<table border=\"1\" class=\"dataframe\">\n",
       "  <thead>\n",
       "    <tr style=\"text-align: right;\">\n",
       "      <th></th>\n",
       "      <th>2019</th>\n",
       "      <th>2020</th>\n",
       "      <th>2021</th>\n",
       "      <th>Aktual</th>\n",
       "      <th>Prediksi</th>\n",
       "      <th>Error</th>\n",
       "    </tr>\n",
       "  </thead>\n",
       "  <tbody>\n",
       "    <tr>\n",
       "      <th>4</th>\n",
       "      <td>145190</td>\n",
       "      <td>63810</td>\n",
       "      <td>127830</td>\n",
       "      <td>336830</td>\n",
       "      <td>338175</td>\n",
       "      <td>1345</td>\n",
       "    </tr>\n",
       "    <tr>\n",
       "      <th>10</th>\n",
       "      <td>94970</td>\n",
       "      <td>126030</td>\n",
       "      <td>158000</td>\n",
       "      <td>379000</td>\n",
       "      <td>377824</td>\n",
       "      <td>1175</td>\n",
       "    </tr>\n",
       "    <tr>\n",
       "      <th>2</th>\n",
       "      <td>69140</td>\n",
       "      <td>77770</td>\n",
       "      <td>156250</td>\n",
       "      <td>303160</td>\n",
       "      <td>303815</td>\n",
       "      <td>655</td>\n",
       "    </tr>\n",
       "    <tr>\n",
       "      <th>8</th>\n",
       "      <td>143200</td>\n",
       "      <td>126760</td>\n",
       "      <td>165290</td>\n",
       "      <td>435250</td>\n",
       "      <td>434646</td>\n",
       "      <td>603</td>\n",
       "    </tr>\n",
       "    <tr>\n",
       "      <th>1</th>\n",
       "      <td>110440</td>\n",
       "      <td>121890</td>\n",
       "      <td>154510</td>\n",
       "      <td>386840</td>\n",
       "      <td>385911</td>\n",
       "      <td>928</td>\n",
       "    </tr>\n",
       "    <tr>\n",
       "      <th>7</th>\n",
       "      <td>113660</td>\n",
       "      <td>120750</td>\n",
       "      <td>155320</td>\n",
       "      <td>389730</td>\n",
       "      <td>388898</td>\n",
       "      <td>831</td>\n",
       "    </tr>\n",
       "    <tr>\n",
       "      <th>9</th>\n",
       "      <td>70980</td>\n",
       "      <td>105990</td>\n",
       "      <td>143700</td>\n",
       "      <td>320670</td>\n",
       "      <td>319836</td>\n",
       "      <td>833</td>\n",
       "    </tr>\n",
       "    <tr>\n",
       "      <th>3</th>\n",
       "      <td>131610</td>\n",
       "      <td>111440</td>\n",
       "      <td>158230</td>\n",
       "      <td>401280</td>\n",
       "      <td>401084</td>\n",
       "      <td>195</td>\n",
       "    </tr>\n",
       "    <tr>\n",
       "      <th>0</th>\n",
       "      <td>135430</td>\n",
       "      <td>128530</td>\n",
       "      <td>131350</td>\n",
       "      <td>395310</td>\n",
       "      <td>393815</td>\n",
       "      <td>1494</td>\n",
       "    </tr>\n",
       "    <tr>\n",
       "      <th>5</th>\n",
       "      <td>137000</td>\n",
       "      <td>109890</td>\n",
       "      <td>180720</td>\n",
       "      <td>427610</td>\n",
       "      <td>428022</td>\n",
       "      <td>412</td>\n",
       "    </tr>\n",
       "  </tbody>\n",
       "</table>\n",
       "</div>"
      ],
      "text/plain": [
       "      2019    2020    2021  Aktual  Prediksi  Error\n",
       "4   145190   63810  127830  336830    338175   1345\n",
       "10   94970  126030  158000  379000    377824   1175\n",
       "2    69140   77770  156250  303160    303815    655\n",
       "8   143200  126760  165290  435250    434646    603\n",
       "1   110440  121890  154510  386840    385911    928\n",
       "7   113660  120750  155320  389730    388898    831\n",
       "9    70980  105990  143700  320670    319836    833\n",
       "3   131610  111440  158230  401280    401084    195\n",
       "0   135430  128530  131350  395310    393815   1494\n",
       "5   137000  109890  180720  427610    428022    412"
      ]
     },
     "execution_count": 20,
     "metadata": {},
     "output_type": "execute_result"
    }
   ],
   "source": [
    "X_train"
   ]
  },
  {
   "cell_type": "code",
   "execution_count": 10,
   "id": "d4c8d4a3-06d9-4539-8fa6-ce70fe489a9d",
   "metadata": {},
   "outputs": [
    {
     "data": {
      "text/plain": [
       "array([[338175.06],\n",
       "       [377824.56],\n",
       "       [303815.94],\n",
       "       [434646.2 ],\n",
       "       [385911.56],\n",
       "       [388898.72],\n",
       "       [319836.25],\n",
       "       [401084.22],\n",
       "       [393815.72],\n",
       "       [428022.97]], dtype=float32)"
      ]
     },
     "execution_count": 10,
     "metadata": {},
     "output_type": "execute_result"
    }
   ],
   "source": [
    "predic = mdl.predict(X_train)\n",
    "predic"
   ]
  },
  {
   "cell_type": "code",
   "execution_count": 11,
   "id": "70b1439d-996e-4214-a5c4-2ae056c8872d",
   "metadata": {},
   "outputs": [
    {
     "data": {
      "text/plain": [
       "4     336830\n",
       "10    379000\n",
       "2     303160\n",
       "8     435250\n",
       "1     386840\n",
       "7     389730\n",
       "9     320670\n",
       "3     401280\n",
       "0     395310\n",
       "5     427610\n",
       "Name: Total/Kg, dtype: int64"
      ]
     },
     "execution_count": 11,
     "metadata": {},
     "output_type": "execute_result"
    }
   ],
   "source": [
    "y_train"
   ]
  },
  {
   "cell_type": "markdown",
   "id": "fa96d106-6659-47de-b807-c3ae543fb103",
   "metadata": {},
   "source": [
    "## Visualisasi Hasil"
   ]
  },
  {
   "cell_type": "code",
   "execution_count": 12,
   "id": "4f61f504-5bbf-4024-8866-027f1eb30b42",
   "metadata": {},
   "outputs": [
    {
     "data": {
      "image/png": "[encoded data removed]",
      "text/plain": [
       "<Figure size 432x288 with 1 Axes>"
      ]
     },
     "metadata": {
      "needs_background": "light"
     },
     "output_type": "display_data"
    }
   ],
   "source": [
    "import matplotlib.pyplot as plt\n",
    "a = range(len(y_train))\n",
    "plt.scatter(a,predic,color='blue')\n",
    "plt.scatter(a,y_train,color='red')\n",
    "plt.title('Visualisasi Hasil')\n",
    "plt.show()"
   ]
  },
  {
   "cell_type": "markdown",
   "id": "6f1b6311-fc8b-40c6-a901-b3c45ffde0fa",
   "metadata": {},
   "source": [
    "## Persentase Error"
   ]
  },
  {
   "cell_type": "code",
   "execution_count": 36,
   "id": "fb81a35e-15b4-43a8-a7c2-985a92153d54",
   "metadata": {},
   "outputs": [
    {
     "data": {
      "text/plain": [
       "['0.3993297806014904%',\n",
       " '0.31014182058047496%',\n",
       " '0.2163667700224304%',\n",
       " '0.13872774267662263%',\n",
       " '0.24000555785337607%',\n",
       " '0.2132967054114387%',\n",
       " '0.26000249477656157%',\n",
       " '0.048789187101275916%',\n",
       " '0.37800239052895196%',\n",
       " '0.09657602722106592%']"
      ]
     },
     "execution_count": 36,
     "metadata": {},
     "output_type": "execute_result"
    }
   ],
   "source": [
    "j = 0\n",
    "hasil_error = []\n",
    "selisih = []\n",
    "for i in y_train:\n",
    "    err_per = mean_absolute_percentage_error([i],[predic[j]])\n",
    "    err = mean_absolute_error([i],[predic[j]])\n",
    "    selisih.append(int(err))\n",
    "    # print(int(a))\n",
    "    a = err_per*100\n",
    "    hasil_error.append(f'{a}%')\n",
    "    j += 1\n",
    "hasil_error"
   ]
  },
  {
   "cell_type": "markdown",
   "id": "c171fabd-381a-4744-b252-d4dd131b47b8",
   "metadata": {},
   "source": [
    "## Export Hasil Berupa Excel"
   ]
  },
  {
   "cell_type": "code",
   "execution_count": 37,
   "id": "057cc100-0176-4ef9-a8d5-3205464eef65",
   "metadata": {},
   "outputs": [],
   "source": [
    "X_train['Aktual'] = y_train\n",
    "X_train['Prediksi'] = predic.astype('int')\n",
    "X_train['Error'] = hasil_error\n",
    "X_train['Selisih'] = selisih\n",
    "X_train.to_excel('Hasil BPNN.xlsx',index=False)"
   ]
  },
  {
   "cell_type": "markdown",
   "id": "f6e5b5a0-837c-49bf-b6e2-3a1f8d5cc127",
   "metadata": {},
   "source": [
    "## Selesai"
   ]
  }
 ],
 "metadata": {
  "kernelspec": {
   "display_name": "Python 3 (ipykernel)",
   "language": "python",
   "name": "python3"
  },
  "language_info": {
   "codemirror_mode": {
    "name": "ipython",
    "version": 3
   },
   "file_extension": ".py",
   "mimetype": "text/x-python",
   "name": "python",
   "nbconvert_exporter": "python",
   "pygments_lexer": "ipython3",
   "version": "3.10.4"
  },
  "vscode": {
   "interpreter": {
    "hash": "916dbcbb3f70747c44a77c7bcd40155683ae19c65e1c03b4aa3499c5328201f1"
   }
  }
 },
 "nbformat": 4,
 "nbformat_minor": 5
}
